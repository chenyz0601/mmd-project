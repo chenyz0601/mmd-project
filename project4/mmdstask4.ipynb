{
 "cells": [
  {
   "cell_type": "markdown",
   "metadata": {
    "collapsed": false
   },
   "source": [
    "# Imports"
   ]
  },
  {
   "cell_type": "code",
   "execution_count": 1,
   "metadata": {
    "collapsed": false
   },
   "outputs": [],
   "source": [
    "import zipfile\n",
    "import json\n",
    "from scipy import sparse\n",
    "import numpy as np\n",
    "import time\n"
   ]
  },
  {
   "cell_type": "markdown",
   "metadata": {
    "collapsed": false
   },
   "source": [
    "# Dataset path"
   ]
  },
  {
   "cell_type": "code",
   "execution_count": 2,
   "metadata": {
    "collapsed": false
   },
   "outputs": [],
   "source": [
    "datadirectory=\"/home/leboudy/Downloads/lastfm_train.zip\"\n",
    "dataset = zipfile.ZipFile(datadirectory)"
   ]
  },
  {
   "cell_type": "markdown",
   "metadata": {},
   "source": [
    "# global variables initialization\n"
   ]
  },
  {
   "cell_type": "code",
   "execution_count": 3,
   "metadata": {
    "collapsed": true
   },
   "outputs": [],
   "source": [
    "songId=0\n",
    "t=0\n",
    "g=50\n",
    "beta=0.2\n",
    "categories =[\"Technical Death Metal\"]\n",
    "S =0#[]\n",
    "#id2songJsonMap = []\n",
    "id2songIdMap = {}\n",
    "fhat=[]\n",
    "n=5 #top songs to report\n",
    "#limitingCounter = 1000\n"
   ]
  },
  {
   "cell_type": "markdown",
   "metadata": {},
   "source": [
    "# Loading data\n"
   ]
  },
  {
   "cell_type": "code",
   "execution_count": 4,
   "metadata": {
    "collapsed": false
   },
   "outputs": [
    {
     "name": "stdout",
     "output_type": "stream",
     "text": [
      "--- 264.47087717056274 seconds ---\n"
     ]
    }
   ],
   "source": [
    "start_time = time.time()\n",
    "for i in dataset.namelist():\n",
    "    if  i.endswith(\".json\"): \n",
    "        f = json.loads(dataset.read(i).decode(\"utf-8\"))\n",
    "        if  f[\"track_id\"] not in id2songIdMap.keys():\n",
    "            id2songIdMap[f[\"track_id\"]] = (songId,i)\n",
    "            tempcategories = set(categories)#will keep removing tags from it\n",
    "            newtags=[]\n",
    "            for tag in f[\"tags\"]:#looping over tags\n",
    "                if int(tag[1]) >g:#filters out those <g\n",
    "                    newtags.append(tag)#keeping >g\n",
    "                    if tag[0] in tempcategories:#if it is in the tempcategories\n",
    "                        tempcategories.remove(tag[0])#removing it\n",
    "            #f[\"tags\"] = newtags\n",
    "            #id2songJsonMap.append(f)\n",
    "            #songTags= [t[0] for t in f[\"tags\"]]\n",
    "            #if len(list(filter(lambda x: x in categories,songTags )) ) == len(categories):\n",
    "            if len(tempcategories)==0:#meaning we encountered all of the tags\n",
    "                S+=1#.append(songId)\n",
    "                fhat.append(1)\n",
    "            else:\n",
    "                fhat.append(0)\n",
    "            songId+=1 \n",
    "            \n",
    "print(\"--- %s seconds ---\" % (time.time() - start_time))"
   ]
  },
  {
   "cell_type": "markdown",
   "metadata": {},
   "source": [
    "# initializing the teleportation probablilities\n"
   ]
  },
  {
   "cell_type": "code",
   "execution_count": 5,
   "metadata": {
    "collapsed": false
   },
   "outputs": [],
   "source": [
    "#_fhat=np.array()\n",
    "#_fhat.shape=(songId,1)\n",
    "#fhat=(1/len(S))*np.array(fhat)\n",
    "fhat=(1/S)*np.array(fhat)"
   ]
  },
  {
   "cell_type": "markdown",
   "metadata": {},
   "source": [
    "# Building the glorious Adjacency matrix\n"
   ]
  },
  {
   "cell_type": "code",
   "execution_count": 6,
   "metadata": {
    "collapsed": false
   },
   "outputs": [
    {
     "name": "stdout",
     "output_type": "stream",
     "text": [
      "--- 185.57483077049255 seconds ---\n"
     ]
    }
   ],
   "source": [
    "start_time = time.time()\n",
    "col=[]\n",
    "row=[]\n",
    "data=[]\n",
    "for i in id2songIdMap.keys():\n",
    "    f = json.loads(dataset.read(id2songIdMap[i][1]).decode(\"utf-8\"))\n",
    "    for s in f[\"similars\"]:\n",
    "        if s[0] in id2songIdMap.keys() and s[1]>=t:\n",
    "            col.append(id2songIdMap[i][0])\n",
    "            row.append(id2songIdMap[s[0]][0])\n",
    "            data.append(1)\n",
    "    \n",
    "    \n",
    "    \n",
    "\n",
    "        \n",
    "print(\"--- %s seconds ---\" % (time.time() - start_time))        \n"
   ]
  },
  {
   "cell_type": "code",
   "execution_count": 7,
   "metadata": {
    "collapsed": false
   },
   "outputs": [],
   "source": [
    "A = sparse.csr_matrix((data, (row, col)),shape=(songId, songId))"
   ]
  },
  {
   "cell_type": "markdown",
   "metadata": {},
   "source": [
    "# Randomly initializing r\n"
   ]
  },
  {
   "cell_type": "code",
   "execution_count": 8,
   "metadata": {
    "collapsed": false
   },
   "outputs": [],
   "source": [
    "r =np.random.rand(A.shape[0])\n",
    "r=r/np.sum(r)"
   ]
  },
  {
   "cell_type": "code",
   "execution_count": 9,
   "metadata": {
    "collapsed": false
   },
   "outputs": [
    {
     "name": "stdout",
     "output_type": "stream",
     "text": [
      "(839122, 839122)\n",
      "839122\n",
      "494\n",
      "839122\n"
     ]
    }
   ],
   "source": [
    "#print(len(id2songJsonMap))\n",
    "print (A.shape)\n",
    "print(songId)\n",
    "print (S)\n",
    "print (songId)"
   ]
  },
  {
   "cell_type": "markdown",
   "metadata": {},
   "source": [
    "# Power Iterations\n"
   ]
  },
  {
   "cell_type": "code",
   "execution_count": 10,
   "metadata": {
    "collapsed": false
   },
   "outputs": [],
   "source": [
    "for i in range(100):\n",
    "    r=A.multiply(beta).dot(r)+fhat*(1-beta)"
   ]
  },
  {
   "cell_type": "markdown",
   "metadata": {},
   "source": [
    "# Reporting the top n songs\n"
   ]
  },
  {
   "cell_type": "code",
   "execution_count": 11,
   "metadata": {
    "collapsed": false
   },
   "outputs": [],
   "source": [
    "topIndecs = r.argsort()[-n:][::-1]\n"
   ]
  },
  {
   "cell_type": "code",
   "execution_count": 12,
   "metadata": {
    "collapsed": false
   },
   "outputs": [
    {
     "name": "stdout",
     "output_type": "stream",
     "text": [
      "TRZEXMX128F932F964\n",
      "TRBBFNF12903CEA3F8\n",
      "TRZQXLA12903D0314B\n",
      "TROEVAE12903CD9745\n",
      "TRSAJOV128F4246984\n"
     ]
    }
   ],
   "source": [
    "keys= list(id2songIdMap.keys())\n",
    "for item in topIndecs:\n",
    "    print (keys[item])"
   ]
  },
  {
   "cell_type": "code",
   "execution_count": 13,
   "metadata": {
    "collapsed": false
   },
   "outputs": [
    {
     "name": "stdout",
     "output_type": "stream",
     "text": [
      "[348755 382258 522309 257574 394833]\n"
     ]
    }
   ],
   "source": [
    "print (topIndecs)"
   ]
  },
  {
   "cell_type": "code",
   "execution_count": null,
   "metadata": {
    "collapsed": true
   },
   "outputs": [],
   "source": []
  }
 ],
 "metadata": {
  "anaconda-cloud": {},
  "kernelspec": {
   "display_name": "Python [conda env:python3]",
   "language": "python",
   "name": "conda-env-python3-py"
  },
  "language_info": {
   "codemirror_mode": {
    "name": "ipython",
    "version": 3
   },
   "file_extension": ".py",
   "mimetype": "text/x-python",
   "name": "python",
   "nbconvert_exporter": "python",
   "pygments_lexer": "ipython3",
   "version": "3.5.2"
  }
 },
 "nbformat": 4,
 "nbformat_minor": 1
}
