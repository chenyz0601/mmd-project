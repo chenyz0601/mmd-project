{
 "cells": [
  {
   "cell_type": "markdown",
   "metadata": {
    "collapsed": false
   },
   "source": [
    "# Imports"
   ]
  },
  {
   "cell_type": "code",
   "execution_count": 2,
   "metadata": {
    "collapsed": false
   },
   "outputs": [],
   "source": [
    "import zipfile\n",
    "import json\n",
    "from scipy import sparse\n",
    "import numpy as np\n",
    "import time\n",
    "import scipy.sparse.linalg as lg\n",
    "import scipy.cluster.vq as vq\n",
    "from matplotlib import pyplot as plt\n",
    "%matplotlib inline  \n",
    "import collections"
   ]
  },
  {
   "cell_type": "markdown",
   "metadata": {
    "collapsed": false
   },
   "source": [
    "# Dataset path"
   ]
  },
  {
   "cell_type": "code",
   "execution_count": 3,
   "metadata": {
    "collapsed": false
   },
   "outputs": [],
   "source": [
    "datadirectory=\"/home/leboudy/Downloads/lastfm_subset.zip\"\n",
    "dataset = zipfile.ZipFile(datadirectory)"
   ]
  },
  {
   "cell_type": "markdown",
   "metadata": {},
   "source": [
    "# global variables initialization\n"
   ]
  },
  {
   "cell_type": "code",
   "execution_count": 4,
   "metadata": {
    "collapsed": true
   },
   "outputs": [],
   "source": [
    "songId=0\n",
    "t=0\n",
    "k=10\n",
    "#g=50\n",
    "#beta=0.2\n",
    "#categories =[\"Technical Death Metal\"]\n",
    "#S =0#[]\n",
    "#id2songJsonMap = []\n",
    "id2songIdMap = {}\n",
    "intId2SongStringID = {}\n",
    "#fhat=[]\n",
    "#n=5 #top songs to report\n",
    "#limitingCounter = 1000\n",
    "kmeansIterations=100"
   ]
  },
  {
   "cell_type": "markdown",
   "metadata": {},
   "source": [
    "# Loading data\n"
   ]
  },
  {
   "cell_type": "code",
   "execution_count": 5,
   "metadata": {
    "collapsed": false
   },
   "outputs": [
    {
     "name": "stdout",
     "output_type": "stream",
     "text": [
      "--- 1.4837961196899414 seconds ---\n"
     ]
    }
   ],
   "source": [
    "start_time = time.time()\n",
    "for i in dataset.namelist():\n",
    "    if  i.endswith(\".json\"): \n",
    "        f = json.loads(dataset.read(i).decode(\"utf-8\"))\n",
    "        if  f[\"track_id\"] not in id2songIdMap.keys():\n",
    "            id2songIdMap[f[\"track_id\"]] = (songId,i)\n",
    "            intId2SongStringID[songId] = i\n",
    "            #tempcategories = set(categories)#will keep removing tags from it\n",
    "            #newtags=[]\n",
    "            #for tag in f[\"tags\"]:#looping over tags\n",
    "             #   if int(tag[1]) >g:#filters out those <g\n",
    "              #      newtags.append(tag)#keeping >g\n",
    "               #     if tag[0] in tempcategories:#if it is in the tempcategories\n",
    "                #        tempcategories.remove(tag[0])#removing it\n",
    "            #f[\"tags\"] = newtags\n",
    "            #id2songJsonMap.append(f)\n",
    "            #songTags= [t[0] for t in f[\"tags\"]]\n",
    "            #if len(list(filter(lambda x: x in categories,songTags )) ) == len(categories):\n",
    "            #if len(tempcategories)==0:#meaning we encountered all of the tags\n",
    "             #   S+=1#.append(songId)\n",
    "              #  fhat.append(1)\n",
    "            #else:\n",
    "             #   fhat.append(0)\n",
    "            songId+=1 \n",
    "            \n",
    "print(\"--- %s seconds ---\" % (time.time() - start_time))"
   ]
  },
  {
   "cell_type": "markdown",
   "metadata": {},
   "source": [
    "# initializing the teleportation probablilities\n"
   ]
  },
  {
   "cell_type": "code",
   "execution_count": 6,
   "metadata": {
    "collapsed": false
   },
   "outputs": [],
   "source": [
    "#_fhat=np.array()\n",
    "#_fhat.shape=(songId,1)\n",
    "#fhat=(1/len(S))*np.array(fhat)\n",
    "#fhat=(1/S)*np.array(fhat)"
   ]
  },
  {
   "cell_type": "markdown",
   "metadata": {},
   "source": [
    "# Building the Adjacency matrix\n"
   ]
  },
  {
   "cell_type": "code",
   "execution_count": 7,
   "metadata": {
    "collapsed": false
   },
   "outputs": [
    {
     "name": "stdout",
     "output_type": "stream",
     "text": [
      "--- 1.7544238567352295 seconds ---\n"
     ]
    }
   ],
   "source": [
    "start_time = time.time()\n",
    "col=[]\n",
    "row=[]\n",
    "data=[]\n",
    "for i in id2songIdMap.keys():\n",
    "    f = json.loads(dataset.read(id2songIdMap[i][1]).decode(\"utf-8\"))\n",
    "    for s in f[\"similars\"]:\n",
    "        if s[0] in id2songIdMap.keys() and s[1]>=t:\n",
    "            #similar = json.loads(dataset.read(id2songIdMap[s[0]][1]).decode(\"utf-8\"))\n",
    "            val=s[1]\n",
    "            #if i in similar[\"similars\"].keys():\n",
    "            #    val =max(val,similar[\"similars\"][i])\n",
    "\n",
    "                \n",
    "            col.append(id2songIdMap[i][0])\n",
    "            row.append(id2songIdMap[s[0]][0])\n",
    "            data.append(val)\n",
    "            \n",
    "            #row.append(id2songIdMap[i][0])\n",
    "            #col.append(id2songIdMap[s[0]][0])\n",
    "            #data.append(val)\n",
    "    \n",
    "    \n",
    "    \n",
    "\n",
    "        \n",
    "print(\"--- %s seconds ---\" % (time.time() - start_time))        \n"
   ]
  },
  {
   "cell_type": "code",
   "execution_count": 8,
   "metadata": {
    "collapsed": false
   },
   "outputs": [],
   "source": [
    "A = sparse.csc_matrix((data, (row, col)),shape=(songId, songId))\n"
   ]
  },
  {
   "cell_type": "code",
   "execution_count": 9,
   "metadata": {
    "collapsed": false
   },
   "outputs": [
    {
     "name": "stdout",
     "output_type": "stream",
     "text": [
      "(9330, 9330)\n"
     ]
    }
   ],
   "source": [
    "print(A.shape)"
   ]
  },
  {
   "cell_type": "code",
   "execution_count": 10,
   "metadata": {
    "collapsed": true
   },
   "outputs": [],
   "source": [
    "def maximum(A,B):\n",
    "    BisBigger = A-B\n",
    "    BisBigger.data = np.where(BisBigger.data<0,1,0)\n",
    "    return A-A.multiply(BisBigger)+B.multiply(BisBigger)"
   ]
  },
  {
   "cell_type": "code",
   "execution_count": 11,
   "metadata": {
    "collapsed": true
   },
   "outputs": [],
   "source": [
    "W = maximum(A,A.T)\n"
   ]
  },
  {
   "cell_type": "code",
   "execution_count": 12,
   "metadata": {
    "collapsed": false
   },
   "outputs": [
    {
     "data": {
      "text/plain": [
       "(9330, 9330)"
      ]
     },
     "execution_count": 12,
     "metadata": {},
     "output_type": "execute_result"
    }
   ],
   "source": [
    "W.shape"
   ]
  },
  {
   "cell_type": "markdown",
   "metadata": {},
   "source": [
    "# Unnoralised L"
   ]
  },
  {
   "cell_type": "code",
   "execution_count": 13,
   "metadata": {
    "collapsed": false
   },
   "outputs": [],
   "source": [
    "D = sparse.csc_matrix((list(W.sum(0).flat), (range(songId), range(songId))))"
   ]
  },
  {
   "cell_type": "code",
   "execution_count": 14,
   "metadata": {
    "collapsed": false
   },
   "outputs": [],
   "source": [
    "L=D-W"
   ]
  },
  {
   "cell_type": "markdown",
   "metadata": {},
   "source": [
    "# Computing the Smallest K eignvectors"
   ]
  },
  {
   "cell_type": "code",
   "execution_count": 15,
   "metadata": {
    "collapsed": true
   },
   "outputs": [],
   "source": [
    "_,largestEigen,_= lg.svds(L,k=1)\n"
   ]
  },
  {
   "cell_type": "code",
   "execution_count": 16,
   "metadata": {
    "collapsed": true
   },
   "outputs": [],
   "source": [
    "I = sparse.identity(songId, format='csc')\n",
    "I.setdiag(largestEigen[0])"
   ]
  },
  {
   "cell_type": "code",
   "execution_count": 17,
   "metadata": {
    "collapsed": false
   },
   "outputs": [
    {
     "data": {
      "text/plain": [
       "array([ 12.63531276])"
      ]
     },
     "execution_count": 17,
     "metadata": {},
     "output_type": "execute_result"
    }
   ],
   "source": [
    "largestEigen"
   ]
  },
  {
   "cell_type": "code",
   "execution_count": 18,
   "metadata": {
    "collapsed": true
   },
   "outputs": [],
   "source": [
    "B = L-I"
   ]
  },
  {
   "cell_type": "code",
   "execution_count": 19,
   "metadata": {
    "collapsed": false
   },
   "outputs": [],
   "source": [
    "e,v= lg.eigs(B,k=k,return_eigenvectors=True ,which='LM')"
   ]
  },
  {
   "cell_type": "code",
   "execution_count": 20,
   "metadata": {
    "collapsed": false
   },
   "outputs": [],
   "source": [
    "e+=largestEigen\n"
   ]
  },
  {
   "cell_type": "code",
   "execution_count": 21,
   "metadata": {
    "collapsed": false
   },
   "outputs": [
    {
     "name": "stdout",
     "output_type": "stream",
     "text": [
      "[  4.56834510e-06   1.19469107e-06   1.77408604e-05   2.16712524e-05\n",
      "   2.36332965e-05   2.55916674e-05   7.76907427e-11  -5.91526828e-13\n",
      "   7.81597009e-12   3.85772508e-05]\n"
     ]
    }
   ],
   "source": [
    "print(e.real)"
   ]
  },
  {
   "cell_type": "code",
   "execution_count": 22,
   "metadata": {
    "collapsed": false
   },
   "outputs": [
    {
     "name": "stdout",
     "output_type": "stream",
     "text": [
      "Ratio Cut with constraints relaxation:\n",
      "(0.000132977448619+0j)\n"
     ]
    }
   ],
   "source": [
    "print(\"Ratio Cut with constraints relaxation:\")\n",
    "print(e.sum())"
   ]
  },
  {
   "cell_type": "code",
   "execution_count": 23,
   "metadata": {
    "collapsed": false
   },
   "outputs": [
    {
     "name": "stderr",
     "output_type": "stream",
     "text": [
      "/home/leboudy/anaconda2/envs/python3/lib/python3.5/site-packages/scipy/cluster/vq.py:653: UserWarning: One of the clusters is empty. Re-run kmean with a different initialization.\n",
      "  warnings.warn(\"One of the clusters is empty. \"\n"
     ]
    }
   ],
   "source": [
    "c,l=vq.kmeans2(v.real,k,kmeansIterations)"
   ]
  },
  {
   "cell_type": "code",
   "execution_count": 24,
   "metadata": {
    "collapsed": false
   },
   "outputs": [
    {
     "name": "stdout",
     "output_type": "stream",
     "text": [
      "The ratio cut according to the hard assignment is :\n",
      "2.26753751439\n"
     ]
    }
   ],
   "source": [
    "rcut=0\n",
    "for i in range(k):\n",
    "    ciNodes = np.where(l==i)\n",
    "    #print (len(ciNodes[0]))\n",
    "    rcut+=(W[ciNodes[0],:].sum()/len(ciNodes[0]))\n",
    "print (\"The ratio cut according to the hard assignment is :\")\n",
    "print (rcut)\n",
    "    \n",
    "    \n",
    "    "
   ]
  },
  {
   "cell_type": "code",
   "execution_count": 28,
   "metadata": {
    "collapsed": false
   },
   "outputs": [
    {
     "data": {
      "image/png": "[encoded data removed]",
      "text/plain": [
       "<matplotlib.figure.Figure at 0x7f404c408f98>"
      ]
     },
     "metadata": {},
     "output_type": "display_data"
    }
   ],
   "source": [
    "fig, axs = plt.subplots(2,5, figsize=(15, 6), facecolor='w', edgecolor='k')\n",
    "fig.subplots_adjust(hspace = .5, wspace=.001)\n",
    "axs = axs.ravel()\n",
    "\n",
    "\n",
    "for i in range(k):\n",
    "    ciNodes = np.where(l==i)[0]\n",
    "    tags=[]\n",
    "    for n in ciNodes:\n",
    "        f = json.loads(dataset.read(intId2SongStringID[n]).decode(\"utf-8\"))\n",
    "        if len(f['tags'])>0:\n",
    "            tags.extend([x[0] for  x in f['tags'] ])\n",
    "    \n",
    "    tags= collections.Counter(tags)\n",
    "    X = np.arange(len(tags))\n",
    "    \n",
    "\n",
    "    axs[i].bar(X, tags.values(), 10, color='b')\n",
    "    axs[i].set_title(\"cluster_\"+str(i))\n",
    "    #p =plt.bar(X, tags.values(), 10, color='b')\n",
    "    #plt.xticks(X, tags.keys())\n",
    "    #print (\"cluster:{}\".format(i))\n",
    "\n",
    "    #plt.show()\n",
    "\n",
    "        \n",
    "        "
   ]
  },
  {
   "cell_type": "markdown",
   "metadata": {},
   "source": [
    "# Normalized L"
   ]
  },
  {
   "cell_type": "code",
   "execution_count": null,
   "metadata": {
    "collapsed": false
   },
   "outputs": [],
   "source": [
    "data = W.sum(0)\n",
    "data[np.where(data!=0)] = 1/np.sqrt(data[np.where(data!=0)])\n",
    "D_n = sparse.csc_matrix((list(data.flat), (range(songId), range(songId))))"
   ]
  },
  {
   "cell_type": "code",
   "execution_count": null,
   "metadata": {
    "collapsed": false
   },
   "outputs": [],
   "source": [
    "L_n = D_n.multiply(L.multiply(D_n))"
   ]
  },
  {
   "cell_type": "code",
   "execution_count": null,
   "metadata": {
    "collapsed": true
   },
   "outputs": [],
   "source": [
    "_,largestEigen_n,_= lg.svds(L_n,k=1)\n"
   ]
  },
  {
   "cell_type": "code",
   "execution_count": null,
   "metadata": {
    "collapsed": false
   },
   "outputs": [],
   "source": [
    "I_n = sparse.identity(songId, format='csc')\n",
    "I_n.setdiag(largestEigen_n[0])"
   ]
  },
  {
   "cell_type": "code",
   "execution_count": null,
   "metadata": {
    "collapsed": true
   },
   "outputs": [],
   "source": []
  },
  {
   "cell_type": "code",
   "execution_count": null,
   "metadata": {
    "collapsed": true
   },
   "outputs": [],
   "source": [
    "B_n = L_n-I_n"
   ]
  },
  {
   "cell_type": "code",
   "execution_count": null,
   "metadata": {
    "collapsed": false
   },
   "outputs": [],
   "source": [
    "e_n,v_n= lg.eigs(B_n,k=,return_eigenvectors=True,which=\"LM\")"
   ]
  },
  {
   "cell_type": "code",
   "execution_count": null,
   "metadata": {
    "collapsed": false
   },
   "outputs": [],
   "source": [
    "e_n"
   ]
  },
  {
   "cell_type": "code",
   "execution_count": null,
   "metadata": {
    "collapsed": false
   },
   "outputs": [],
   "source": [
    "print(\"Ratio Cut with constraints relaxation:\")\n",
    "print(e_n.sum())"
   ]
  },
  {
   "cell_type": "code",
   "execution_count": null,
   "metadata": {
    "collapsed": true
   },
   "outputs": [],
   "source": [
    "c_n,l_n=vq.kmeans2(v_n.real,k,kmeansIterations)"
   ]
  }
 ],
 "metadata": {
  "anaconda-cloud": {},
  "kernelspec": {
   "display_name": "Python [conda env:python3]",
   "language": "python",
   "name": "conda-env-python3-py"
  },
  "language_info": {
   "codemirror_mode": {
    "name": "ipython",
    "version": 3
   },
   "file_extension": ".py",
   "mimetype": "text/x-python",
   "name": "python",
   "nbconvert_exporter": "python",
   "pygments_lexer": "ipython3",
   "version": "3.5.2"
  }
 },
 "nbformat": 4,
 "nbformat_minor": 1
}
