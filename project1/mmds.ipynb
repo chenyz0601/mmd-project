{
 "cells": [
  {
   "cell_type": "code",
   "execution_count": 1,
   "metadata": {
    "collapsed": true
   },
   "outputs": [],
   "source": [
    "import os\n",
    "import sys\n",
    "import time\n",
    "import glob\n",
    "import datetime\n",
    "import sqlite3\n",
    "import numpy as np\n",
    "import ConfigParser\n",
    "from nltk import ngrams\n",
    "import hashlib\n",
    "import binascii\n",
    "\n"
   ]
  },
  {
   "cell_type": "code",
   "execution_count": 2,
   "metadata": {
    "collapsed": false
   },
   "outputs": [],
   "source": [
    "g65_configFileLocation = './config'\n",
    "Config = ConfigParser.ConfigParser()\n",
    "Config.read(g65_configFileLocation)\n",
    "def ConfigSectionMap(section):\n",
    "    dict1 = {}\n",
    "    options = Config.options(section)\n",
    "    for option in options:\n",
    "        try:\n",
    "            dict1[option] = Config.get(section, option)\n",
    "            if dict1[option] == -1:\n",
    "                DebugPrint(\"skip: %s\" % option)\n",
    "        except:\n",
    "            print(\"exception on %s!\" % option)\n",
    "            dict1[option] = None\n",
    "    return dict1\n",
    "\n",
    "\n"
   ]
  },
  {
   "cell_type": "code",
   "execution_count": 3,
   "metadata": {
    "collapsed": false
   },
<<<<<<< HEAD
   "outputs": [
    {
     "name": "stdout",
     "output_type": "stream",
     "text": [
      "<function ConfigSectionMap at 0x7f7405463c08>\n"
     ]
    }
   ],
   "source": [
    "print ConfigSectionMap"
   ]
  },
  {
   "cell_type": "code",
   "execution_count": 4,
   "metadata": {
    "collapsed": false
   },
=======
>>>>>>> 9c2d6ef17a02572b3840d02760437c0d2ce1e1bd
   "outputs": [],
   "source": [
    "#reading our configured values into global variables\n",
    "msd_subset_path = ConfigSectionMap(\"MainSection\")['datasetlocation']\n",
    "msd_code_path = ConfigSectionMap(\"MainSection\")['codelocation']\n",
    "g65_selectedFeatures =ConfigSectionMap(\"MainSection\")['features'].split(\"<g65SEP>\")\n",
    "g65_n = int(ConfigSectionMap(\"MainSection\")['numberofsongstoprocess'])  # number of songs to process \n",
    "g65_k = int(ConfigSectionMap(\"MainSection\")['k'])# number of shingles(grams)\n",
    "g65_hashalgorithm = ConfigSectionMap(\"MainSection\")['hashalgorithm']#hashing algorithm try print(hashlib.algorithms_available) print(hashlib.algorithms_guaranteed) to show all of the available ones\n",
    "\n",
    "\n",
    "signatureMatrix = {}# a dictionary of arrays, with unique shingles as keys each shingle has as value a list \n",
    "#the list at each element will have 0 or 1 depending on the corresponding song at that index has that shingle or not :D\n",
    "songsIntId=[-1] # will be used to generate the integer index id for our songs\n",
    "songsIds = {} #key= the dataset key for the song , #value = our numerical index that can be used for its list position for a shingle in the dictionary signatureMatrix"
   ]
  },
  {
   "cell_type": "code",
<<<<<<< HEAD
   "execution_count": 11,
=======
   "execution_count": 4,
>>>>>>> 9c2d6ef17a02572b3840d02760437c0d2ce1e1bd
   "metadata": {
    "collapsed": false
   },
   "outputs": [
    {
     "name": "stdout",
     "output_type": "stream",
     "text": [
<<<<<<< HEAD
      "md5\n",
      "8\n"
=======
      "2\n"
>>>>>>> 9c2d6ef17a02572b3840d02760437c0d2ce1e1bd
     ]
    }
   ],
   "source": [
<<<<<<< HEAD
    "print g65_hashalgorithm\n",
    "print len(g65_selectedFeatures)"
=======
    "print g65_n"
>>>>>>> 9c2d6ef17a02572b3840d02760437c0d2ce1e1bd
   ]
  },
  {
   "cell_type": "code",
<<<<<<< HEAD
   "execution_count": 6,
=======
   "execution_count": 5,
>>>>>>> 9c2d6ef17a02572b3840d02760437c0d2ce1e1bd
   "metadata": {
    "collapsed": false
   },
   "outputs": [],
   "source": [
    "\n",
    "msd_subset_data_path=os.path.join(msd_subset_path,'data')\n",
    "msd_subset_addf_path=os.path.join(msd_subset_path,'AdditionalFiles')\n",
    "assert os.path.isdir(msd_subset_path),'wrong path'"
   ]
  },
  {
   "cell_type": "code",
<<<<<<< HEAD
   "execution_count": 7,
=======
   "execution_count": 6,
>>>>>>> 9c2d6ef17a02572b3840d02760437c0d2ce1e1bd
   "metadata": {
    "collapsed": false
   },
   "outputs": [],
   "source": [
    "#msd_code_path=os.path.join(msd_subset_path,'MSongsDB')\n",
    "assert os.path.isdir(msd_code_path),'wrong path'"
   ]
  },
  {
   "cell_type": "code",
<<<<<<< HEAD
   "execution_count": 8,
=======
   "execution_count": 7,
>>>>>>> 9c2d6ef17a02572b3840d02760437c0d2ce1e1bd
   "metadata": {
    "collapsed": false
   },
   "outputs": [],
   "source": [
    "sys.path.append( os.path.join(msd_code_path,'PythonSrc') )"
   ]
  },
  {
   "cell_type": "code",
<<<<<<< HEAD
   "execution_count": 9,
=======
   "execution_count": 8,
>>>>>>> 9c2d6ef17a02572b3840d02760437c0d2ce1e1bd
   "metadata": {
    "collapsed": false
   },
   "outputs": [],
   "source": [
    "import hdf5_getters as GETTERS"
   ]
  },
  {
   "cell_type": "code",
<<<<<<< HEAD
=======
   "execution_count": 9,
   "metadata": {
    "collapsed": true
   },
   "outputs": [],
   "source": [
    "def strtimedelta(starttime,stoptime):\n",
    "    return str(datetime.timedelta(seconds=stoptime-starttime))"
   ]
  },
  {
   "cell_type": "code",
>>>>>>> 9c2d6ef17a02572b3840d02760437c0d2ce1e1bd
   "execution_count": 10,
   "metadata": {
    "collapsed": false
   },
   "outputs": [
    {
     "name": "stdout",
     "output_type": "stream",
     "text": [
      "3447020056\n",
      "[3 4 4 7 0 2 0 0 5 6]\n",
      "358359402\n",
      "[3 5 8 3 5 9 4 0 2]\n",
      "1434867945\n",
      "[1 4 3 4 8 6 7 9 4 5]\n",
      "472060155\n",
      "[4 7 2 0 6 0 1 5 5]\n",
      "128516251\n",
      "[1 2 8 5 1 6 2 5 1]\n",
      "2955452348\n",
      "[2 9 5 5 4 5 2 3 4 8]\n",
      "3949313269\n",
      "[3 9 4 9 3 1 3 2 6 9]\n",
      "1596402286\n",
      "[1 5 9 6 4 0 2 2 8 6]\n",
      "2679180886\n",
      "[2 6 7 9 1 8 0 8 8 6]\n",
      "3604739510\n",
      "[3 6 0 4 7 3 9 5 1 0]\n",
      "3855043249\n",
      "[3 8 5 5 0 4 3 2 4 9]\n",
      "3113967585\n",
      "[3 1 1 3 9 6 7 5 8 5]\n",
      "287787223\n",
      "[2 8 7 7 8 7 2 2 3]\n",
      "2722205463\n",
      "[2 7 2 2 2 0 5 4 6 3]\n"
     ]
    }
   ],
   "source": [
<<<<<<< HEAD
    "# will hold all of the processed songs features\n",
    "limitCounter = [0]\n",
    "for root, dirs, files in os.walk(msd_subset_data_path):\n",
    "    files = glob.glob(os.path.join(root,'*'+'.h5'))\n",
    "        # apply function to all files, quit when we exeed the number of songs to precess n\n",
    "    for f in files :\n",
    "        if limitCounter[0]== g65_n:\n",
    "            break\n",
    "        else:\n",
    "            h5 = GETTERS.open_h5_file_read(f)\n",
    "            song =''\n",
    "            for feature in g65_selectedFeatures:\n",
    "        \n",
    "                #concatinating the features into one space separated string\n",
    "                song+=((str(getattr(GETTERS, 'get_'+feature)(h5))+' '))\n",
    "    \n",
    "                #creating n shingles out of the space separated File output =list of n shingles elements\n",
    "                songGrams = ngrams(song.split(),g65_k) \n",
    "            \n",
    "                # for each ngrams element in the list\n",
    "            for grams in songGrams:\n",
    "        \n",
    "                    #I hash them then together and append them to song\n",
    "                song = getattr(hashlib, g65_hashalgorithm)(''.join(grams)).hexdigest()\n",
    "                num = binascii.crc32(song) & 0xffffffff\n",
    "                print num\n",
    "                col = np.array([int(ind) for ind in str(num)])\n",
    "                print col\n",
    "    \n",
    "            limitCounter[0]+=1# a counter for how many songs are processed so far\n",
    "            h5.close()\n",
=======
    "limitCounter = [0]\n",
    "def apply_to_all_files(basedir,func=lambda x: x,ext='.h5'):\n",
    "    \"\"\"\n",
    "    From a base directory, go through all subdirectories,\n",
    "    find all files with the given extension, apply the\n",
    "    given function 'func' to all of them.\n",
    "    INPUT\n",
    "       basedir  - base directory of the dataset\n",
    "       func     - function to apply to all filenames\n",
    "       ext      - extension, .h5 by default\n",
    "    \"\"\"\n",
    "    # iterate over all files in all subdirectories\n",
    "    for root, dirs, files in os.walk(basedir):\n",
    "        files = glob.glob(os.path.join(root,'*'+ext))\n",
    "        # apply function to all files, quit when we exeed the number of songs to precess n\n",
    "        for f in files :\n",
    "            #print GETTERS.get_song_id(f)\n",
    "            if limitCounter[0]== g65_n:\n",
    "                return\n",
    "            else:\n",
    "                func(f) \n",
>>>>>>> 9c2d6ef17a02572b3840d02760437c0d2ce1e1bd
    "            "
   ]
  },
  {
   "cell_type": "code",
<<<<<<< HEAD
   "execution_count": 47,
=======
   "execution_count": 11,
>>>>>>> 9c2d6ef17a02572b3840d02760437c0d2ce1e1bd
   "metadata": {
    "collapsed": false
   },
   "outputs": [],
   "source": [
    "# define the function to extract all query features\n",
    "def func_to_get_Selected_features(filename):\n",
    "    \"\"\"\n",
    "    Given a song file name, \n",
    "    this function reads the song file,\n",
    "    gets from it the selected features in our config file,\n",
    "    concatinates them together,\n",
    "    then adds them as a separate n shingles to our global list of songs\n",
    "    \n",
    "    \n",
    "    \"\"\"\n",
    "    \n",
    "    h5 = GETTERS.open_h5_file_read(filename)\n",
    "    song =''\n",
    "    songsIntId[0]+=1\n",
    "    for feature in g65_selectedFeatures:\n",
<<<<<<< HEAD
    "        \n",
    "        #concatinating the features into one space separated string\n",
    "        song+=((str(getattr(GETTERS, 'get_'+feature)(h5))+' '))\n",
    "    \n",
    "    #creating n shingles out of the space separated File output =list of n shingles elements\n",
    "    songGrams = ngrams(song.split(),g65_k) \n",
    "    #song=[]\n",
    "    \n",
    "    # for each ngrams element in the list\n",
    "    for grams in songGrams:\n",
    "        \n",
    "        #I hash them then together and append them to song\n",
    "        song = getattr(hashlib, g65_hashalgorithm)(''.join(grams)).hexdigest()\n",
    "    \n",
    "    #append the hashed shingles to col\n",
    "    col = np.array([int(ind for ind in str(song))])\n",
=======
    "        song+=((str(getattr(GETTERS, 'get_'+feature)(h5))+' '))#concatinating the features into one space separated string\n",
    "    songGrams = ngrams(song.split(),g65_k)#creating n shingles out of the space separated File output =list of n shingles elements\n",
    "    song=[]\n",
    "    for grams in songGrams:# for each ngrams element in the list \n",
    "        hashedgram = ( getattr(hashlib, g65_hashalgorithm)(''.join(grams)).hexdigest())\n",
    "        songDatasetId = GETTERS.get_song_id(h5)\n",
    "        songsIds[songDatasetId] = songsIntId[0]\n",
    "        if not signatureMatrix.has_key(hashedgram):\n",
    "            signatureMatrix[hashedgram]=[0]*(g65_n-1) # the first time for that shingle - not sure why -1, need to fix it #$%$\n",
    "        signatureMatrix[hashedgram].insert(songsIds[songDatasetId],1)\n",
    "        #song.append(hashedgram)#I hash them then together and append them to song\n",
    "    \n",
    "    #songs.append(song)#append the hashed shingles to songs\n",
>>>>>>> 9c2d6ef17a02572b3840d02760437c0d2ce1e1bd
    "    limitCounter[0]+=1# a counter for how many songs are processed so far\n",
    "    h5.close()\n",
    "    return col\n",
    "    "
   ]
  },
  {
   "cell_type": "code",
<<<<<<< HEAD
   "execution_count": 48,
=======
   "execution_count": 12,
>>>>>>> 9c2d6ef17a02572b3840d02760437c0d2ce1e1bd
   "metadata": {
    "collapsed": false
   },
   "outputs": [
    {
     "name": "stdout",
     "output_type": "stream",
     "text": [
<<<<<<< HEAD
      "all of the selected features were returned in: 0:00:00.010463\n"
=======
      "2\n"
     ]
    }
   ],
   "source": [
    "print g65_n"
   ]
  },
  {
   "cell_type": "code",
   "execution_count": 21,
   "metadata": {
    "collapsed": false
   },
   "outputs": [
    {
     "name": "stdout",
     "output_type": "stream",
     "text": [
      "all of the selected features were returned in: 0:00:00.003098\n"
>>>>>>> 9c2d6ef17a02572b3840d02760437c0d2ce1e1bd
     ]
    }
   ],
   "source": [
    "t1 = time.time()\n",
    "apply_to_all_files(msd_subset_data_path,func=func_to_get_Selected_features)\n",
    "t2 = time.time()\n",
    "print 'all of the selected features were returned in:',strtimedelta(t1,t2)"
   ]
  },
  {
   "cell_type": "code",
<<<<<<< HEAD
   "execution_count": 44,
=======
   "execution_count": 22,
>>>>>>> 9c2d6ef17a02572b3840d02760437c0d2ce1e1bd
   "metadata": {
    "collapsed": false
   },
   "outputs": [
    {
     "name": "stdout",
     "output_type": "stream",
     "text": [
<<<<<<< HEAD
      "dacf4c0405bccd5b4eb5cedfccafab38 1\n",
      "0d16a6cb2ca34d65da949608a7bc01d1 2\n",
      "5fa48b65d06f1b4c149e5ac3c8373d26 3\n",
      "b5c33e4190ea3180194aaf0377fb7fa0 4\n",
      "7d36bd6d7583ab83919f7e6c3be58ed2 5\n",
      "286a35b068233064dae4428f7275728e 6\n",
      "455c67a4c676c38031bb3b1636c0d783 7\n",
      "72e7b92557db2b0f2d0bc6d3a1449a06 8\n",
      "f7ddd489ab0a82567b241b05971cbdb3 9\n",
      "8cecd698bbd2f4e9f0121baa6a0a98f6 10\n",
      "83854f6204e50ebcc4b6d8b34b4a717d 11\n",
      "fa1c413aea1198f0e27e481e2bd77053 12\n",
      "1656cd0bc655723a7f6d26290b91458e 13\n",
      "4fe08663b83a93586bb4b39d0442ae5c 14\n"
=======
      "{'f188c17763e14981a4f1be72db7366fc': [1, 0], '542e18daec9c661fb3e90f724bf07644': [0, 1], '9f9184562fed30cbe342f7f1913e9da8': [0, 1], '9720dc655924528b17bcda523c3e5d48': [0, 1], 'd110b1c5f868beca0a062ec69c67e4d0': [0, 1], 'c69f8f1e8f206f353dc1e4677db220af': [1, 0], 'b30de68786aa715de1d22664c12f06e8': [1, 0], '39cf27f2bed68ae51cc735958a487de4': [0, 1], 'f7ddd489ab0a82567b241b05971cbdb3': [1, 0], '10725539ae2780e2d173f30cea8d79c5': [0, 1], '587d0dd40b83d6f5628583a8a1e77a34': [1, 0], 'bd3bfeb3ff74837ffa9118727edade82': [1, 0], 'de74dbb9893732ce0748511c826f572f': [1, 0], '9b4bc4b195aee738870ccd783034d50f': [0, 1]}\n"
>>>>>>> 9c2d6ef17a02572b3840d02760437c0d2ce1e1bd
     ]
    }
   ],
   "source": [
    "#print songsIds\n",
    "#TODO min hashing\n",
<<<<<<< HEAD
    "i = 0\n",
    "for s in songs:\n",
    "    for grams in s:\n",
    "        i += 1\n",
    "        print grams, i\n",
    "            \n"
=======
    "print signatureMatrix \n"
>>>>>>> 9c2d6ef17a02572b3840d02760437c0d2ce1e1bd
   ]
  },
  {
   "cell_type": "code",
   "execution_count": 416,
   "metadata": {
    "collapsed": false
   },
   "outputs": [
    {
     "data": {
      "text/plain": [
       "['__builtins__',\n",
       " '__doc__',\n",
       " '__file__',\n",
       " '__name__',\n",
       " '__package__',\n",
       " '__warningregistry__',\n",
       " 'get_analysis_sample_rate',\n",
       " 'get_artist_7digitalid',\n",
       " 'get_artist_familiarity',\n",
       " 'get_artist_hotttnesss',\n",
       " 'get_artist_id',\n",
       " 'get_artist_latitude',\n",
       " 'get_artist_location',\n",
       " 'get_artist_longitude',\n",
       " 'get_artist_mbid',\n",
       " 'get_artist_mbtags',\n",
       " 'get_artist_mbtags_count',\n",
       " 'get_artist_name',\n",
       " 'get_artist_playmeid',\n",
       " 'get_artist_terms',\n",
       " 'get_artist_terms_freq',\n",
       " 'get_artist_terms_weight',\n",
       " 'get_audio_md5',\n",
       " 'get_bars_confidence',\n",
       " 'get_bars_start',\n",
       " 'get_beats_confidence',\n",
       " 'get_beats_start',\n",
       " 'get_danceability',\n",
       " 'get_duration',\n",
       " 'get_end_of_fade_in',\n",
       " 'get_energy',\n",
       " 'get_key',\n",
       " 'get_key_confidence',\n",
       " 'get_loudness',\n",
       " 'get_mode',\n",
       " 'get_mode_confidence',\n",
       " 'get_num_songs',\n",
       " 'get_release',\n",
       " 'get_release_7digitalid',\n",
       " 'get_sections_confidence',\n",
       " 'get_sections_start',\n",
       " 'get_segments_confidence',\n",
       " 'get_segments_loudness_max',\n",
       " 'get_segments_loudness_max_time',\n",
       " 'get_segments_loudness_start',\n",
       " 'get_segments_pitches',\n",
       " 'get_segments_start',\n",
       " 'get_segments_timbre',\n",
       " 'get_similar_artists',\n",
       " 'get_song_hotttnesss',\n",
       " 'get_song_id',\n",
       " 'get_start_of_fade_out',\n",
       " 'get_tatums_confidence',\n",
       " 'get_tatums_start',\n",
       " 'get_tempo',\n",
       " 'get_time_signature',\n",
       " 'get_time_signature_confidence',\n",
       " 'get_title',\n",
       " 'get_track_7digitalid',\n",
       " 'get_track_id',\n",
       " 'get_year',\n",
       " 'open_h5_file_read',\n",
       " 'tables']"
      ]
     },
     "execution_count": 416,
     "metadata": {},
     "output_type": "execute_result"
    }
   ],
   "source": [
    "dir(GETTERS)\n"
   ]
  },
  {
   "cell_type": "code",
   "execution_count": 34,
   "metadata": {
    "collapsed": false
   },
   "outputs": [
    {
     "ename": "AttributeError",
     "evalue": "'str' object has no attribute 'root'",
     "output_type": "error",
     "traceback": [
      "\u001b[0;31m---------------------------------------------------------------------------\u001b[0m",
      "\u001b[0;31mAttributeError\u001b[0m                            Traceback (most recent call last)",
      "\u001b[0;32m<ipython-input-34-00ff08e09b85>\u001b[0m in \u001b[0;36m<module>\u001b[0;34m()\u001b[0m\n\u001b[0;32m----> 1\u001b[0;31m \u001b[0mGETTERS\u001b[0m\u001b[0;34m.\u001b[0m\u001b[0mget_song_id\u001b[0m\u001b[0;34m(\u001b[0m\u001b[0;34m'~/mmds-project-dependencies/MillionSongSubset/data/A/A/A/TRAAABD128F429CF47.h5'\u001b[0m\u001b[0;34m)\u001b[0m\u001b[0;34m\u001b[0m\u001b[0m\n\u001b[0m",
      "\u001b[0;32m/home/leboudy/mmds-project-dependencies/MSongsDB/PythonSrc/hdf5_getters.pyc\u001b[0m in \u001b[0;36mget_song_id\u001b[0;34m(h5, songidx)\u001b[0m\n\u001b[1;32m    123\u001b[0m     \u001b[0mGet\u001b[0m \u001b[0msong\u001b[0m \u001b[0mid\u001b[0m \u001b[0;32mfrom\u001b[0m \u001b[0ma\u001b[0m \u001b[0mHDF5\u001b[0m \u001b[0msong\u001b[0m \u001b[0mfile\u001b[0m\u001b[0;34m,\u001b[0m \u001b[0mby\u001b[0m \u001b[0mdefault\u001b[0m \u001b[0mthe\u001b[0m \u001b[0mfirst\u001b[0m \u001b[0msong\u001b[0m \u001b[0;32min\u001b[0m \u001b[0mit\u001b[0m\u001b[0;34m\u001b[0m\u001b[0m\n\u001b[1;32m    124\u001b[0m     \"\"\"\n\u001b[0;32m--> 125\u001b[0;31m     \u001b[0;32mreturn\u001b[0m \u001b[0mh5\u001b[0m\u001b[0;34m.\u001b[0m\u001b[0mroot\u001b[0m\u001b[0;34m.\u001b[0m\u001b[0mmetadata\u001b[0m\u001b[0;34m.\u001b[0m\u001b[0msongs\u001b[0m\u001b[0;34m.\u001b[0m\u001b[0mcols\u001b[0m\u001b[0;34m.\u001b[0m\u001b[0msong_id\u001b[0m\u001b[0;34m[\u001b[0m\u001b[0msongidx\u001b[0m\u001b[0;34m]\u001b[0m\u001b[0;34m\u001b[0m\u001b[0m\n\u001b[0m\u001b[1;32m    126\u001b[0m \u001b[0;34m\u001b[0m\u001b[0m\n\u001b[1;32m    127\u001b[0m \u001b[0;32mdef\u001b[0m \u001b[0mget_song_hotttnesss\u001b[0m\u001b[0;34m(\u001b[0m\u001b[0mh5\u001b[0m\u001b[0;34m,\u001b[0m\u001b[0msongidx\u001b[0m\u001b[0;34m=\u001b[0m\u001b[0;36m0\u001b[0m\u001b[0;34m)\u001b[0m\u001b[0;34m:\u001b[0m\u001b[0;34m\u001b[0m\u001b[0m\n",
      "\u001b[0;31mAttributeError\u001b[0m: 'str' object has no attribute 'root'"
     ]
    }
   ],
   "source": [
    "GETTERS.get_song_id('~/mmds-project-dependencies/MillionSongSubset/data/A/A/A/TRAAABD128F429CF47.h5')"
   ]
  },
  {
   "cell_type": "code",
   "execution_count": null,
   "metadata": {
    "collapsed": true
   },
   "outputs": [],
   "source": []
  }
 ],
 "metadata": {
  "anaconda-cloud": {},
  "kernelspec": {
   "display_name": "Python [default]",
   "language": "python",
   "name": "python2"
  },
  "language_info": {
   "codemirror_mode": {
    "name": "ipython",
    "version": 2
   },
   "file_extension": ".py",
   "mimetype": "text/x-python",
   "name": "python",
   "nbconvert_exporter": "python",
   "pygments_lexer": "ipython2",
   "version": "2.7.12"
  }
 },
 "nbformat": 4,
 "nbformat_minor": 0
}
