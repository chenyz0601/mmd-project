{
 "cells": [
  {
   "cell_type": "code",
   "execution_count": 5,
   "metadata": {
    "collapsed": false
   },
   "outputs": [],
   "source": [
    "import os\n",
    "import sys\n",
    "import time\n",
    "import glob\n",
    "import datetime\n",
    "import sqlite3\n",
    "import numpy as np\n",
    "import ConfigParser\n",
    "from nltk import ngrams\n",
    "import hashlib\n",
    "import numpy.matlib\n",
    "from sklearn import preprocessing\n"
   ]
  },
  {
   "cell_type": "markdown",
   "metadata": {},
   "source": [
    "# $Step 1$Read parameters from the config file"
   ]
  },
  {
   "cell_type": "code",
   "execution_count": 6,
   "metadata": {
    "collapsed": true
   },
   "outputs": [],
   "source": [
    "g65_configFileLocation = './config'\n",
    "Config = ConfigParser.ConfigParser()\n",
    "Config.read(g65_configFileLocation)\n",
    "def ConfigSectionMap(section):\n",
    "    dict1 = {}\n",
    "    options = Config.options(section)\n",
    "    for option in options:\n",
    "        try:\n",
    "            dict1[option] = Config.get(section, option)\n",
    "            if dict1[option] == -1:\n",
    "                DebugPrint(\"skip: %s\" % option)\n",
    "        except:\n",
    "            print(\"exception on %s!\" % option)\n",
    "            dict1[option] = None\n",
    "    return dict1"
   ]
  },
  {
   "cell_type": "code",
   "execution_count": 7,
   "metadata": {
    "collapsed": false
   },
   "outputs": [],
   "source": [
    "# set pathes\n",
    "msd_subset_path = ConfigSectionMap(\"MainSection\")['dataset_location']\n",
    "msd_code_path = ConfigSectionMap(\"MainSection\")['code_location']\n",
    "msd_subset_data_path=os.path.join(msd_subset_path,'data')\n",
    "msd_subset_addf_path=os.path.join(msd_subset_path,'AdditionalFiles')\n",
    "assert os.path.isdir(msd_subset_path),'wrong path'\n",
    "assert os.path.isdir(msd_code_path),'wrong path'\n",
    "sys.path.append( os.path.join(msd_code_path,'PythonSrc') )\n",
    "\n",
    "# g65_selctedFeatures stores all the features\n",
    "g65_selectedFeatures =ConfigSectionMap(\"MainSection\")['features'].split(\"<g65SEP>\")\n",
    "num_feature = len(g65_selectedFeatures)\n",
    "\n",
    "# g65_n is number of songs to process\n",
    "g65_n = int(ConfigSectionMap(\"MainSection\")['number_of_songs_to_process'])\n",
    "\n",
    "# g65_r is number of rows in each band\n",
    "g65_r = int(ConfigSectionMap(\"MainSection\")['number_of_rows_each_band'])\n",
    "\n",
    "# g65_b is number of bands\n",
    "g65_b = int(ConfigSectionMap(\"MainSection\")['number_of_bands'])\n",
    "\n",
    "# g65_epsilon is the tolerant difference\n",
    "g65_epsilon = int(ConfigSectionMap(\"MainSection\")['tolerance_diff'])\n",
    "\n",
    "#signiture is the raw value of each song\n",
    "signiture = np.zeros([num_feature,g65_n])\n",
    "\n",
    "#the hashing algorithm used for hashing bands pieces\n",
    "g65_hashalgorithm = ConfigSectionMap(\"MainSection\")['hashalgorithm']"
   ]
  },
  {
   "cell_type": "code",
   "execution_count": 10,
   "metadata": {
    "collapsed": false
   },
   "outputs": [],
   "source": [
    "import hdf5_getters as GETTERS"
   ]
  },
  {
   "cell_type": "code",
   "execution_count": 12,
   "metadata": {
    "collapsed": false
   },
   "outputs": [
    {
     "ename": "AttributeError",
     "evalue": "'module' object has no attribute 'get_duration,end_of_fade_in,key,loudness,mode,start_of_fade_out,tempo,time_signature,key_confidence'",
     "output_type": "error",
     "traceback": [
      "\u001b[1;31m---------------------------------------------------------------------------\u001b[0m",
      "\u001b[1;31mAttributeError\u001b[0m                            Traceback (most recent call last)",
      "\u001b[1;32m<ipython-input-12-ac64f4357895>\u001b[0m in \u001b[0;36m<module>\u001b[1;34m()\u001b[0m\n\u001b[0;32m     12\u001b[0m             \u001b[0msongsIds\u001b[0m\u001b[1;33m[\u001b[0m\u001b[0ms_counter\u001b[0m\u001b[1;33m]\u001b[0m \u001b[1;33m=\u001b[0m \u001b[0mGETTERS\u001b[0m\u001b[1;33m.\u001b[0m\u001b[0mget_song_id\u001b[0m\u001b[1;33m(\u001b[0m\u001b[0mh5\u001b[0m\u001b[1;33m)\u001b[0m\u001b[1;33m\u001b[0m\u001b[0m\n\u001b[0;32m     13\u001b[0m             \u001b[1;32mfor\u001b[0m \u001b[0mfeatures\u001b[0m \u001b[1;32min\u001b[0m \u001b[0mg65_selectedFeatures\u001b[0m\u001b[1;33m:\u001b[0m\u001b[1;33m\u001b[0m\u001b[0m\n\u001b[1;32m---> 14\u001b[1;33m                 \u001b[0mtemp\u001b[0m \u001b[1;33m=\u001b[0m \u001b[0mstr\u001b[0m\u001b[1;33m(\u001b[0m\u001b[0mgetattr\u001b[0m\u001b[1;33m(\u001b[0m\u001b[0mGETTERS\u001b[0m\u001b[1;33m,\u001b[0m \u001b[1;34m'get_'\u001b[0m\u001b[1;33m+\u001b[0m\u001b[0mfeatures\u001b[0m\u001b[1;33m)\u001b[0m\u001b[1;33m(\u001b[0m\u001b[0mh5\u001b[0m\u001b[1;33m)\u001b[0m\u001b[1;33m)\u001b[0m\u001b[1;33m\u001b[0m\u001b[0m\n\u001b[0m\u001b[0;32m     15\u001b[0m                 \u001b[0msigniture\u001b[0m\u001b[1;33m[\u001b[0m\u001b[0mf_counter\u001b[0m\u001b[1;33m,\u001b[0m\u001b[0ms_counter\u001b[0m\u001b[1;33m]\u001b[0m \u001b[1;33m=\u001b[0m \u001b[0mtemp\u001b[0m\u001b[1;33m\u001b[0m\u001b[0m\n\u001b[0;32m     16\u001b[0m                 \u001b[0mf_counter\u001b[0m \u001b[1;33m+=\u001b[0m \u001b[1;36m1\u001b[0m\u001b[1;33m\u001b[0m\u001b[0m\n",
      "\u001b[1;31mAttributeError\u001b[0m: 'module' object has no attribute 'get_duration,end_of_fade_in,key,loudness,mode,start_of_fade_out,tempo,time_signature,key_confidence'"
     ]
    }
   ],
   "source": [
    "# extract all query features into the signiture matrix\n",
    "s_counter = 0\n",
    "songsIds = [0]*g65_n\n",
    "for root, dirs, files in os.walk(msd_subset_data_path):\n",
    "    files = glob.glob(os.path.join(root,'*'+'.h5'))\n",
    "    for f in files :\n",
    "        if s_counter == g65_n:\n",
    "            break\n",
    "        else:\n",
    "            h5 = GETTERS.open_h5_file_read(f)\n",
    "            f_counter = 0\n",
    "            songsIds[s_counter] = GETTERS.get_song_id(h5)\n",
    "            for features in g65_selectedFeatures:\n",
    "                temp = str(getattr(GETTERS, 'get_'+features)(h5))\n",
    "                signiture[f_counter,s_counter] = temp\n",
    "                f_counter += 1\n",
    "            s_counter += 1\n",
    "            h5.close()\n"
   ]
  },
  {
   "cell_type": "code",
   "execution_count": null,
   "metadata": {
    "collapsed": false
   },
   "outputs": [],
   "source": [
    "signiture = preprocessing.scale(signiture)"
   ]
  },
  {
   "cell_type": "code",
   "execution_count": null,
   "metadata": {
    "collapsed": false
   },
   "outputs": [],
   "source": [
    "#print signiture"
   ]
  },
  {
   "cell_type": "markdown",
   "metadata": {},
   "source": [
    "# $Step2$Construct a new signiture matrix M for LSH with cosin distance"
   ]
  },
  {
   "cell_type": "code",
   "execution_count": null,
   "metadata": {
    "collapsed": false
   },
   "outputs": [],
   "source": [
    "vec = np.random.randn(g65_b*g65_r,num_feature)\n",
    "vec2 = vec*vec\n",
    "vecNorm = np.sqrt(vec2.sum(axis=1))\n",
    "vecNorm = np.matlib.repmat(vecNorm,num_feature,1)\n",
    "hashV = vecNorm.T/vec\n",
    "M = np.sign(hashV.dot(signiture))\n",
    "#print M, M.shape\n",
    "\n",
    "\n"
   ]
  },
  {
   "cell_type": "markdown",
   "metadata": {
    "collapsed": true
   },
   "source": [
    "# $Step3$ Hashing bands to buckets"
   ]
  },
  {
   "cell_type": "code",
   "execution_count": null,
   "metadata": {
    "collapsed": false
   },
   "outputs": [],
   "source": [
    "BandsBuckets=[]\n",
    "for i in range(0,g65_b):# for each band\n",
    "    BandsBuckets.append({})\n",
    "    for s in range(0,g65_n):\n",
    "        bandCol = ''.join(str(v) for v in M[g65_r*i:(g65_r*(i+1)-1),s])\n",
    "        bucketKey = (getattr(hashlib, g65_hashalgorithm)(bandCol)).hexdigest()\n",
    "        BandsBuckets[i].setdefault(bucketKey,[]).append(s)\n",
    "        \n",
    "\n",
    "\n",
    "        "
   ]
  },
  {
   "cell_type": "code",
   "execution_count": null,
   "metadata": {
    "collapsed": false
   },
   "outputs": [],
   "source": [
    "BandsBuckets\n",
    "numberOfCandidates=0\n",
    "for band in BandsBuckets:\n",
    "    for key, candidatesList in band.iteritems():#looping over lists in band buckets\n",
    "            if len(candidatesList)>1:\n",
    "                numberOfCandidates+=len(candidatesList)\n",
    "print \"number of candidates: {}\".format( numberOfCandidates )\n",
    "    \n",
    "    "
   ]
  },
  {
   "cell_type": "markdown",
   "metadata": {},
   "source": [
    "\n",
    "# $Step4$ Reporting Duplicates"
   ]
  },
  {
   "cell_type": "code",
   "execution_count": null,
   "metadata": {
    "collapsed": false
   },
   "outputs": [],
   "source": [
    "duplicates = set() # will eventually hold duplicate pairs of songs\n",
    "def calculateCosineAngle(v1,v2):\n",
    "    return  np.dot(v1,v2)/numpy.linalg.norm(v1)/numpy.linalg.norm(v2)"
   ]
  },
  {
   "cell_type": "code",
   "execution_count": null,
   "metadata": {
    "collapsed": false
   },
   "outputs": [],
   "source": [
    "for i in range(0,g65_b):#looping over bands\n",
    "    for band in BandsBuckets:\n",
    "        for key, candidatesList in band.iteritems():#looping over lists in band buckets\n",
    "            if len(candidatesList)>1:#if a list has more than one item\n",
    "                for j in range(0,len(candidatesList)-1):#for each two items in the list \n",
    "                    for k in range(j+1,len(candidatesList)):\n",
    "                        cosine = calculateCosineAngle(signiture[:,candidatesList[j]],signiture[:,candidatesList[k]])#we compute the cosine \n",
    "                        if np.fabs(cosine)> np.cos( g65_epsilon*np.pi  /180.):# if the cosine is >epsilon\n",
    "                            duplicates.add((songsIds[j],songsIds[k])) # we report they are a duplicate\n",
    "                        \n"
   ]
  },
  {
   "cell_type": "markdown",
   "metadata": {},
   "source": [
    "\n",
    "# $Step5$ Reporting Duplicates"
   ]
  },
  {
   "cell_type": "code",
   "execution_count": null,
   "metadata": {
    "collapsed": false
   },
   "outputs": [],
   "source": [
    "\n",
    "print \"number of Duplicates: {}\".format( len(duplicates)*2)"
   ]
  }
 ],
 "metadata": {
  "anaconda-cloud": {},
  "kernelspec": {
   "display_name": "Python 2",
   "language": "python",
   "name": "python2"
  },
  "language_info": {
   "codemirror_mode": {
    "name": "ipython",
    "version": 2
   },
   "file_extension": ".py",
   "mimetype": "text/x-python",
   "name": "python",
   "nbconvert_exporter": "python",
   "pygments_lexer": "ipython2",
   "version": "2.7.12"
  }
 },
 "nbformat": 4,
 "nbformat_minor": 0
}
