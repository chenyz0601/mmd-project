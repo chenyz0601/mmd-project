{
 "cells": [
  {
   "cell_type": "code",
   "execution_count": 45,
   "metadata": {
    "collapsed": true
   },
   "outputs": [],
   "source": [
    "import os\n",
    "import sys\n",
    "import time\n",
    "import glob\n",
    "import datetime\n",
    "import sqlite3\n",
    "import numpy as np\n",
    "import ConfigParser\n",
    "from nltk import ngrams\n",
    "import hashlib\n",
    "import binascii\n",
    "\n"
   ]
  },
  {
   "cell_type": "code",
   "execution_count": 27,
   "metadata": {
    "collapsed": false
   },
   "outputs": [],
   "source": [
    "g65_configFileLocation = './config'\n",
    "Config = ConfigParser.ConfigParser()\n",
    "Config.read(g65_configFileLocation)\n",
    "def ConfigSectionMap(section):\n",
    "    dict1 = {}\n",
    "    options = Config.options(section)\n",
    "    for option in options:\n",
    "        try:\n",
    "            dict1[option] = Config.get(section, option)\n",
    "            if dict1[option] == -1:\n",
    "                DebugPrint(\"skip: %s\" % option)\n",
    "        except:\n",
    "            print(\"exception on %s!\" % option)\n",
    "            dict1[option] = None\n",
    "    return dict1\n",
    "\n",
    "\n"
   ]
  },
  {
   "cell_type": "code",
   "execution_count": 29,
   "metadata": {
    "collapsed": false
   },
   "outputs": [
    {
     "name": "stdout",
     "output_type": "stream",
     "text": [
      "<function ConfigSectionMap at 0x7f2a3944ef50>\n"
     ]
    }
   ],
   "source": [
    "print ConfigSectionMap"
   ]
  },
  {
   "cell_type": "code",
   "execution_count": 30,
   "metadata": {
    "collapsed": false
   },
   "outputs": [
    {
     "name": "stdout",
     "output_type": "stream",
     "text": [
      "/home/yuanze/mmd-project/MillionSongSubset/\n"
     ]
    }
   ],
   "source": [
    "#reading our configured values into global variables\n",
    "msd_subset_path = ConfigSectionMap(\"MainSection\")['datasetlocation']\n",
    "msd_code_path = ConfigSectionMap(\"MainSection\")['codelocation']\n",
    "g65_selectedFeatures =ConfigSectionMap(\"MainSection\")['features'].split(\"<g65SEP>\")\n",
    "g65_n = int(ConfigSectionMap(\"MainSection\")['numberofsongstoprocess'])  # number of songs to process\n",
    "g65_k = int(ConfigSectionMap(\"MainSection\")['k'])# number of shingles(grams)\n",
    "g65_hashalgorithm = ConfigSectionMap(\"MainSection\")['hashalgorithm']#hashing algorithm try print(hashlib.algorithms_available) print(hashlib.algorithms_guaranteed) to show all of the available ones"
   ]
  },
  {
   "cell_type": "code",
   "execution_count": 31,
   "metadata": {
    "collapsed": false
   },
   "outputs": [
    {
     "name": "stdout",
     "output_type": "stream",
     "text": [
      "md5\n"
     ]
    }
   ],
   "source": [
    "print g65_hashalgorithm"
   ]
  },
  {
   "cell_type": "code",
   "execution_count": 35,
   "metadata": {
    "collapsed": false
   },
   "outputs": [],
   "source": [
    "\n",
    "msd_subset_data_path=os.path.join(msd_subset_path,'data')\n",
    "msd_subset_addf_path=os.path.join(msd_subset_path,'AdditionalFiles')\n",
    "assert os.path.isdir(msd_subset_path),'wrong path'"
   ]
  },
  {
   "cell_type": "code",
   "execution_count": 36,
   "metadata": {
    "collapsed": false
   },
   "outputs": [],
   "source": [
    "#msd_code_path=os.path.join(msd_subset_path,'MSongsDB')\n",
    "assert os.path.isdir(msd_code_path),'wrong path'"
   ]
  },
  {
   "cell_type": "code",
   "execution_count": 34,
   "metadata": {
    "collapsed": false
   },
   "outputs": [],
   "source": [
    "sys.path.append( os.path.join(msd_code_path,'PythonSrc') )"
   ]
  },
  {
   "cell_type": "code",
   "execution_count": 37,
   "metadata": {
    "collapsed": false
   },
   "outputs": [],
   "source": [
    "import hdf5_getters as GETTERS"
   ]
  },
  {
   "cell_type": "code",
   "execution_count": 67,
   "metadata": {
    "collapsed": false
   },
   "outputs": [
    {
     "name": "stdout",
     "output_type": "stream",
     "text": [
      "3447020056\n",
      "[3 4 4 7 0 2 0 0 5 6]\n",
      "358359402\n",
      "[3 5 8 3 5 9 4 0 2]\n",
      "1434867945\n",
      "[1 4 3 4 8 6 7 9 4 5]\n",
      "472060155\n",
      "[4 7 2 0 6 0 1 5 5]\n",
      "128516251\n",
      "[1 2 8 5 1 6 2 5 1]\n",
      "2955452348\n",
      "[2 9 5 5 4 5 2 3 4 8]\n",
      "3949313269\n",
      "[3 9 4 9 3 1 3 2 6 9]\n",
      "1596402286\n",
      "[1 5 9 6 4 0 2 2 8 6]\n",
      "2679180886\n",
      "[2 6 7 9 1 8 0 8 8 6]\n",
      "3604739510\n",
      "[3 6 0 4 7 3 9 5 1 0]\n",
      "3855043249\n",
      "[3 8 5 5 0 4 3 2 4 9]\n",
      "3113967585\n",
      "[3 1 1 3 9 6 7 5 8 5]\n",
      "287787223\n",
      "[2 8 7 7 8 7 2 2 3]\n",
      "2722205463\n",
      "[2 7 2 2 2 0 5 4 6 3]\n"
     ]
    }
   ],
   "source": [
    "# will hold all of the processed songs features\n",
    "limitCounter = [0]\n",
    "for root, dirs, files in os.walk(msd_subset_data_path):\n",
    "    files = glob.glob(os.path.join(root,'*'+'.h5'))\n",
    "        # apply function to all files, quit when we exeed the number of songs to precess n\n",
    "    for f in files :\n",
    "        if limitCounter[0]== g65_n:\n",
    "            break\n",
    "        else:\n",
    "            h5 = GETTERS.open_h5_file_read(f)\n",
    "            song =''\n",
    "            for feature in g65_selectedFeatures:\n",
    "        \n",
    "                #concatinating the features into one space separated string\n",
    "                song+=((str(getattr(GETTERS, 'get_'+feature)(h5))+' '))\n",
    "    \n",
    "                #creating n shingles out of the space separated File output =list of n shingles elements\n",
    "                songGrams = ngrams(song.split(),g65_k) \n",
    "            \n",
    "                # for each ngrams element in the list\n",
    "            for grams in songGrams:\n",
    "        \n",
    "                    #I hash them then together and append them to song\n",
    "                song = getattr(hashlib, g65_hashalgorithm)(''.join(grams)).hexdigest()\n",
    "                num = binascii.crc32(song) & 0xffffffff\n",
    "                print num\n",
    "                col = np.array([int(ind) for ind in str(num)])\n",
    "                print col\n",
    "    \n",
    "            limitCounter[0]+=1# a counter for how many songs are processed so far\n",
    "            h5.close()\n",
    "            "
   ]
  },
  {
   "cell_type": "code",
   "execution_count": 47,
   "metadata": {
    "collapsed": false
   },
   "outputs": [],
   "source": [
    "# define the function to extract all query features\n",
    "def func_to_get_Selected_features(filename):\n",
    "    \"\"\"\n",
    "    Given a song file name, \n",
    "    this function reads the song file,\n",
    "    gets from it the selected features in our config file,\n",
    "    concatinates them together,\n",
    "    then adds them as a separate n shingles to our global list of songs\n",
    "    \n",
    "    \n",
    "    \"\"\"\n",
    "    h5 = GETTERS.open_h5_file_read(filename)\n",
    "    song =''\n",
    "    for feature in g65_selectedFeatures:\n",
    "        \n",
    "        #concatinating the features into one space separated string\n",
    "        song+=((str(getattr(GETTERS, 'get_'+feature)(h5))+' '))\n",
    "    \n",
    "    #creating n shingles out of the space separated File output =list of n shingles elements\n",
    "    songGrams = ngrams(song.split(),g65_k) \n",
    "    #song=[]\n",
    "    \n",
    "    # for each ngrams element in the list\n",
    "    for grams in songGrams:\n",
    "        \n",
    "        #I hash them then together and append them to song\n",
    "        song = getattr(hashlib, g65_hashalgorithm)(''.join(grams)).hexdigest()\n",
    "    \n",
    "    #append the hashed shingles to col\n",
    "    col = np.array([int(ind for ind in str(song))])\n",
    "    limitCounter[0]+=1# a counter for how many songs are processed so far\n",
    "    h5.close()\n",
    "    return col\n",
    "    "
   ]
  },
  {
   "cell_type": "code",
   "execution_count": 48,
   "metadata": {
    "collapsed": false
   },
   "outputs": [
    {
     "name": "stdout",
     "output_type": "stream",
     "text": [
      "all of the selected features were returned in: 0:00:00.010463\n"
     ]
    }
   ],
   "source": [
    "t1 = time.time()\n",
    "apply_to_all_files(msd_subset_data_path,func=func_to_get_Selected_features)\n",
    "t2 = time.time()\n",
    "print 'all of the selected features were returned in:',strtimedelta(t1,t2)"
   ]
  },
  {
   "cell_type": "code",
   "execution_count": 44,
   "metadata": {
    "collapsed": false
   },
   "outputs": [
    {
     "name": "stdout",
     "output_type": "stream",
     "text": [
      "dacf4c0405bccd5b4eb5cedfccafab38 1\n",
      "0d16a6cb2ca34d65da949608a7bc01d1 2\n",
      "5fa48b65d06f1b4c149e5ac3c8373d26 3\n",
      "b5c33e4190ea3180194aaf0377fb7fa0 4\n",
      "7d36bd6d7583ab83919f7e6c3be58ed2 5\n",
      "286a35b068233064dae4428f7275728e 6\n",
      "455c67a4c676c38031bb3b1636c0d783 7\n",
      "72e7b92557db2b0f2d0bc6d3a1449a06 8\n",
      "f7ddd489ab0a82567b241b05971cbdb3 9\n",
      "8cecd698bbd2f4e9f0121baa6a0a98f6 10\n",
      "83854f6204e50ebcc4b6d8b34b4a717d 11\n",
      "fa1c413aea1198f0e27e481e2bd77053 12\n",
      "1656cd0bc655723a7f6d26290b91458e 13\n",
      "4fe08663b83a93586bb4b39d0442ae5c 14\n"
     ]
    }
   ],
   "source": [
    "\n",
    "#TODO min hashing\n",
    "i = 0\n",
    "for s in songs:\n",
    "    for grams in s:\n",
    "        i += 1\n",
    "        print grams, i\n",
    "            \n"
   ]
  },
  {
   "cell_type": "code",
   "execution_count": 416,
   "metadata": {
    "collapsed": false
   },
   "outputs": [
    {
     "data": {
      "text/plain": [
       "['__builtins__',\n",
       " '__doc__',\n",
       " '__file__',\n",
       " '__name__',\n",
       " '__package__',\n",
       " '__warningregistry__',\n",
       " 'get_analysis_sample_rate',\n",
       " 'get_artist_7digitalid',\n",
       " 'get_artist_familiarity',\n",
       " 'get_artist_hotttnesss',\n",
       " 'get_artist_id',\n",
       " 'get_artist_latitude',\n",
       " 'get_artist_location',\n",
       " 'get_artist_longitude',\n",
       " 'get_artist_mbid',\n",
       " 'get_artist_mbtags',\n",
       " 'get_artist_mbtags_count',\n",
       " 'get_artist_name',\n",
       " 'get_artist_playmeid',\n",
       " 'get_artist_terms',\n",
       " 'get_artist_terms_freq',\n",
       " 'get_artist_terms_weight',\n",
       " 'get_audio_md5',\n",
       " 'get_bars_confidence',\n",
       " 'get_bars_start',\n",
       " 'get_beats_confidence',\n",
       " 'get_beats_start',\n",
       " 'get_danceability',\n",
       " 'get_duration',\n",
       " 'get_end_of_fade_in',\n",
       " 'get_energy',\n",
       " 'get_key',\n",
       " 'get_key_confidence',\n",
       " 'get_loudness',\n",
       " 'get_mode',\n",
       " 'get_mode_confidence',\n",
       " 'get_num_songs',\n",
       " 'get_release',\n",
       " 'get_release_7digitalid',\n",
       " 'get_sections_confidence',\n",
       " 'get_sections_start',\n",
       " 'get_segments_confidence',\n",
       " 'get_segments_loudness_max',\n",
       " 'get_segments_loudness_max_time',\n",
       " 'get_segments_loudness_start',\n",
       " 'get_segments_pitches',\n",
       " 'get_segments_start',\n",
       " 'get_segments_timbre',\n",
       " 'get_similar_artists',\n",
       " 'get_song_hotttnesss',\n",
       " 'get_song_id',\n",
       " 'get_start_of_fade_out',\n",
       " 'get_tatums_confidence',\n",
       " 'get_tatums_start',\n",
       " 'get_tempo',\n",
       " 'get_time_signature',\n",
       " 'get_time_signature_confidence',\n",
       " 'get_title',\n",
       " 'get_track_7digitalid',\n",
       " 'get_track_id',\n",
       " 'get_year',\n",
       " 'open_h5_file_read',\n",
       " 'tables']"
      ]
     },
     "execution_count": 416,
     "metadata": {},
     "output_type": "execute_result"
    }
   ],
   "source": [
    "dir(GETTERS)\n"
   ]
  },
  {
   "cell_type": "code",
   "execution_count": null,
   "metadata": {
    "collapsed": true
   },
   "outputs": [],
   "source": []
  }
 ],
 "metadata": {
  "anaconda-cloud": {},
  "kernelspec": {
   "display_name": "Python 2",
   "language": "python",
   "name": "python2"
  },
  "language_info": {
   "codemirror_mode": {
    "name": "ipython",
    "version": 2
   },
   "file_extension": ".py",
   "mimetype": "text/x-python",
   "name": "python",
   "nbconvert_exporter": "python",
   "pygments_lexer": "ipython2",
   "version": "2.7.12"
  }
 },
 "nbformat": 4,
 "nbformat_minor": 0
}
