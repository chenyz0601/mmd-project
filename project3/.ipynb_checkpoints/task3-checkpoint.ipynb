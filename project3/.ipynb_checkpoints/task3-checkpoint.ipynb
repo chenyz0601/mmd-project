{
 "cells": [
  {
   "cell_type": "code",
   "execution_count": 105,
   "metadata": {
    "collapsed": false
   },
   "outputs": [],
   "source": [
    "import numpy as np\n",
    "import matplotlib.pyplot as plt\n",
    "from scipy.sparse.linalg import svds\n",
    "#from alternating import optimize\n",
    "from itertools import count\n",
    "from scipy import sparse\n",
    "from sklearn import linear_model\n",
    "import time"
   ]
  },
  {
   "cell_type": "code",
   "execution_count": 22,
   "metadata": {
    "collapsed": true
   },
   "outputs": [],
   "source": [
    "datasetPath = '../../train_triplets.txt'\n",
    "n =300000\n",
    "b = 10\n",
    "ignoreLessThan = 5\n",
    "num_test = 200\n",
    "\n",
    "# k is the num of freedom of Q's cols and P's rows\n",
    "k = 30\n",
    "\n",
    "alpha = 0.5\n",
    "\n",
    "%matplotlib inline"
   ]
  },
  {
   "cell_type": "code",
   "execution_count": 12,
   "metadata": {
    "collapsed": false
   },
   "outputs": [],
   "source": [
    "# read first n triplets from the dataset\n",
    "def readTriplets(datasetPath, n):\n",
    "    row = []\n",
    "    col = []\n",
    "    data = []\n",
    "\n",
    "    user_to_row = {}\n",
    "    song_to_col = {}\n",
    "    user_count = count()\n",
    "    song_count = count()\n",
    "    limitingCounter = 0\n",
    "    with open(datasetPath) as f:\n",
    "        for triplet in f:\n",
    "            if limitingCounter ==n:\n",
    "                break\n",
    "            limitingCounter+=1\n",
    "\n",
    "            uid, sid, play_count =triplet.split('\\t')\n",
    "            #print (uid, sid, play_count)\n",
    "            if not uid in user_to_row:\n",
    "                user_to_row[uid] = next(user_count)\n",
    "            row.append(user_to_row[uid])\n",
    "            if not sid in song_to_col:\n",
    "                song_to_col[sid] = next(song_count)\n",
    "            col.append(song_to_col[sid])        \n",
    "            data.append(int(play_count))\n",
    "    return row, col, data"
   ]
  },
  {
   "cell_type": "markdown",
   "metadata": {},
   "source": [
    "$Preprocess 1:$\n",
    "\n",
    "assign compress all entries in M into [i,i+1]"
   ]
  },
  {
   "cell_type": "code",
   "execution_count": 13,
   "metadata": {
    "collapsed": false
   },
   "outputs": [],
   "source": [
    "def resetData(data):\n",
    "    data = np.floor(np.log(data)/np.log(2)+1)\n",
    "    data[data>b]=b\n",
    "    return data"
   ]
  },
  {
   "cell_type": "markdown",
   "metadata": {
    "collapsed": false
   },
   "source": [
    "$Preprocess 2:$\n",
    "\n",
    "Remove invalid songs and users"
   ]
  },
  {
   "cell_type": "code",
   "execution_count": 14,
   "metadata": {
    "collapsed": false,
    "scrolled": true
   },
   "outputs": [],
   "source": [
    "# construct the M\n",
    "# input: raw row,c col, data, and ignoreLessThan\n",
    "# return csr sparse pruned M\n",
    "def constructM(row,col,data,ignoreLessThan):\n",
    "    M = sparse.csr_matrix((data, (row, col)))\n",
    "    size = M.shape\n",
    "    count = 0\n",
    "    while(True):\n",
    "        count += 1\n",
    "        mask = M!=0\n",
    "        dr = mask.sum(axis=1)\n",
    "        M = M[np.where(dr>ignoreLessThan)[0],:]\n",
    "        mask = M!=0\n",
    "        dc = mask.sum(axis=0)\n",
    "        M = M[:,np.where(dc>ignoreLessThan)[1]]\n",
    "        if size == M.shape:\n",
    "            break\n",
    "        size = M.shape    \n",
    "    return M"
   ]
  },
  {
   "cell_type": "markdown",
   "metadata": {
    "collapsed": true
   },
   "source": [
    "$Preprocess3 :$\n",
    "\n",
    "Draw test data"
   ]
  },
  {
   "cell_type": "code",
   "execution_count": 35,
   "metadata": {
    "collapsed": false
   },
   "outputs": [],
   "source": [
    "#divide M into test,validation and train datasets\n",
    "# return test: first col of rows second col of cols and third col of data\n",
    "#        validation: ...\n",
    "#        train: same, train_M: csr sparse of trian M \n",
    "def divideM(M,num_test=200,num_validation=1000):\n",
    "    # find out nonzeros of pruned M, and store the rows, cols, data in non0M\n",
    "    row,col = sparse.csr_matrix.nonzero(M)\n",
    "    data = M[row,col]\n",
    "    data = np.asarray(data.tolist()[0])\n",
    "    non0M = np.array([row,col,data]).T\n",
    "\n",
    "    # randomly draw num_test nonzeros from M as test data\n",
    "    draw = np.random.permutation(len(row))[:num_test+num_validation]\n",
    "    test = non0M[draw[:num_test]]\n",
    "    validation = non0M[draw[num_test:num_test+num_validation]]\n",
    "\n",
    "    # set train_M and assign all test data to 0s\n",
    "    train = np.delete(non0M,draw,0)\n",
    "    train_M = sparse.csr_matrix((train[:,2], (train[:,0], train[:,1])))\n",
    "    return test,validation,train,train_M"
   ]
  },
  {
   "cell_type": "markdown",
   "metadata": {},
   "source": [
    "$Initialization :$"
   ]
  },
  {
   "cell_type": "code",
   "execution_count": 39,
   "metadata": {
    "collapsed": false
   },
   "outputs": [],
   "source": [
    "def initQP(train_M,k=30):\n",
    "    U,s,V = sparse.linalg.svds(train_M,k=k)\n",
    "    Q = U.dot(np.diag(s))\n",
    "    P = np.dot(np.diag(s),V)\n",
    "    return Q,P"
   ]
  },
  {
   "cell_type": "markdown",
   "metadata": {},
   "source": [
    "$GradientDecent :$"
   ]
  },
  {
   "cell_type": "code",
   "execution_count": 102,
   "metadata": {
    "collapsed": false
   },
   "outputs": [],
   "source": [
    "def GradientDecent(train,Q,P,lamb1=1,lamb2=1,alpha=1e-5):\n",
    "    start_time = time.time()\n",
    "    COL = P.shape[1]\n",
    "    ROW = Q.shape[0]\n",
    "    row = train[:,0].astype(int)\n",
    "    col = train[:,1].astype(int)\n",
    "    data = train[:,2]\n",
    "    dQ = np.zeros(Q.shape)\n",
    "    dP = np.zeros(P.shape)\n",
    "    for c in range(COL):\n",
    "        temp = np.where(col==c)\n",
    "        if len(temp[0])>0:\n",
    "            q = Q[row[temp],:]\n",
    "            val = data[temp]\n",
    "            dP[:,c] = 2*lamb1*P[:,c]-2*np.dot(q.T,val-q.dot(P[:,c]))\n",
    "    for r in range(ROW):\n",
    "        temp = np.where(row==r)\n",
    "        if len(temp[0])>0:\n",
    "            p = P[:,col[temp]]\n",
    "            val = data[temp]\n",
    "            dQ[r,:] = 2*lamb2*Q[r,:]-2*np.dot(val.T-np.dot(Q[r,:],p),p.T)\n",
    "    Q_out =Q-alpha*dQ\n",
    "    P_out =P-alpha*dP\n",
    "    return Q_out,P_out,time.time()-start_time"
   ]
  },
  {
   "cell_type": "markdown",
   "metadata": {},
   "source": [
    "$StochasticGradientDecent :$"
   ]
  },
  {
   "cell_type": "code",
   "execution_count": 144,
   "metadata": {
    "collapsed": true
   },
   "outputs": [],
   "source": [
    "def StochasticGradientDecent(train,Q1,P1,lamb1=1,lamb2=1,alpha=1e-4):\n",
    "    Q_out = Q1\n",
    "    P_out = P1\n",
    "    start_time = time.time()\n",
    "    draw = np.random.randint(train.shape[0])\n",
    "    r = train[draw,2]\n",
    "    x = train[draw,1]\n",
    "    i = train[draw,0]\n",
    "    q = Q_out[i,:]\n",
    "    p = P_out[:,x]\n",
    "    dP = -2*(r-q.dot(p))*q.T+2*lamb1*p\n",
    "    dQ = -2*(r-q.dot(p))*p.T+2*lamb1*q\n",
    "    Q_out[i,:] -= alpha*dQ\n",
    "    P_out[:,x] -= alpha*dP\n",
    "    return Q_out,P_out,time.time()-start_time"
   ]
  },
  {
   "cell_type": "markdown",
   "metadata": {},
   "source": [
    "$SGDwithMiniBatch :$"
   ]
  },
  {
   "cell_type": "code",
   "execution_count": 148,
   "metadata": {
    "collapsed": true
   },
   "outputs": [],
   "source": [
    "def SGDwithBatch(train,Q2,P2,s=100,lamb1=1,lamb2=1,alpha=1e-4):\n",
    "    Q_out = Q2\n",
    "    P_out = P2\n",
    "    start_time = time.time()\n",
    "    draw = np.random.permutation(train.shape[0])[:s]\n",
    "    val = train[draw,:]\n",
    "    for batch in range(s):\n",
    "        r = val[batch,2]\n",
    "        x = val[batch,1]\n",
    "        i = val[batch,0]\n",
    "        q = Q_out[i,:]\n",
    "        p = P_out[:,x]\n",
    "        dP = -2*(r-q.dot(p))*q.T+2*lamb1*p\n",
    "        dQ = -2*(r-q.dot(p))*p.T+2*lamb1*q\n",
    "        Q_out[i,:] -= alpha*dQ\n",
    "        P_out[:,x] -= alpha*dP\n",
    "    return Q_out,P_out,time.time()-start_time"
   ]
  },
  {
   "cell_type": "markdown",
   "metadata": {},
   "source": [
    "$ComputeError :$"
   ]
  },
  {
   "cell_type": "code",
   "execution_count": 43,
   "metadata": {
    "collapsed": true
   },
   "outputs": [],
   "source": [
    "def Error(data,Q,P):\n",
    "    row = data[:,0].astype(int)\n",
    "    col = data[:,1].astype(int)\n",
    "    data = data[:,2]\n",
    "    error = 0\n",
    "    for i in range(len(row)):\n",
    "        error += (data[i]-np.dot(Q[row[i],:],P[:,col[i]]))**2\n",
    "    return np.sqrt(error/len(row))"
   ]
  },
  {
   "cell_type": "markdown",
   "metadata": {},
   "source": [
    "$Preprocessing :$"
   ]
  },
  {
   "cell_type": "code",
   "execution_count": 140,
   "metadata": {
    "collapsed": false
   },
   "outputs": [],
   "source": [
    "row,col,data = readTriplets(datasetPath, n)\n",
    "data = resetData(data)\n",
    "M = constructM(row,col,data,ignoreLessThan)\n",
    "test,validation,train,train_M = divideM(M)\n",
    "Q,P = initQP(train_M)"
   ]
  },
  {
   "cell_type": "markdown",
   "metadata": {},
   "source": [
    "$TrainWithGradientDecent :$"
   ]
  },
  {
   "cell_type": "code",
   "execution_count": 156,
   "metadata": {
    "collapsed": false
   },
   "outputs": [
    {
     "name": "stdout",
     "output_type": "stream",
     "text": [
      "time per iteration is:  3.25461722374 , prediction error is:  1.47707605419\n"
     ]
    },
    {
     "data": {
      "image/png": "[encoded data removed]",
      "text/plain": [
       "<matplotlib.figure.Figure at 0x7ff04c9dff10>"
      ]
     },
     "metadata": {},
     "output_type": "display_data"
    }
   ],
   "source": [
    "Q0 = Q\n",
    "P0 = P\n",
    "N0 = 100\n",
    "loss = []\n",
    "t_iter0 = 0\n",
    "for i in range(N):\n",
    "    Q0,P0,t = GradientDecent(train,Q0,P0)\n",
    "    loss0.append(Error(validation,Q0,P0))\n",
    "    t_iter0 += t\n",
    "plt.plot(loss0)\n",
    "plt.ylabel('validation error')\n",
    "plt.xlabel('iterations')\n",
    "plt.title('train loss of gradient decent')\n",
    "print 'time per iteration is: ', t_iter0/N0, ', prediction error is: ', Error(test,Q0,P0)"
   ]
  },
  {
   "cell_type": "markdown",
   "metadata": {},
   "source": [
    "$TrainWithSGD :$"
   ]
  },
  {
   "cell_type": "code",
   "execution_count": 155,
   "metadata": {
    "collapsed": false
   },
   "outputs": [
    {
     "name": "stdout",
     "output_type": "stream",
     "text": [
      "time per iteration is:  3.97756838799e-05 , prediction error is:  1.51844497528\n"
     ]
    },
    {
     "name": "stderr",
     "output_type": "stream",
     "text": [
      "/home/yuanze/anaconda/lib/python2.7/site-packages/IPython/kernel/__main__.py:9: VisibleDeprecationWarning: using a non-integer number instead of an integer will result in an error in the future\n",
      "/home/yuanze/anaconda/lib/python2.7/site-packages/IPython/kernel/__main__.py:10: VisibleDeprecationWarning: using a non-integer number instead of an integer will result in an error in the future\n",
      "/home/yuanze/anaconda/lib/python2.7/site-packages/IPython/kernel/__main__.py:13: VisibleDeprecationWarning: using a non-integer number instead of an integer will result in an error in the future\n",
      "/home/yuanze/anaconda/lib/python2.7/site-packages/IPython/kernel/__main__.py:14: VisibleDeprecationWarning: using a non-integer number instead of an integer will result in an error in the future\n"
     ]
    },
    {
     "data": {
      "image/png": "[encoded data removed]",
      "text/plain": [
       "<matplotlib.figure.Figure at 0x7ff04c8fe3d0>"
      ]
     },
     "metadata": {},
     "output_type": "display_data"
    }
   ],
   "source": [
    "Q1 = Q\n",
    "P1 = P\n",
    "N1 = 100000\n",
    "loss1 = []\n",
    "t_iter1 = 0\n",
    "for i in range(N1):\n",
    "    Q1,P1,t1 = StochasticGradientDecent(train,Q1,P1)\n",
    "    loss1.append(Error(validation,Q1,P1))\n",
    "    t_iter1 += t1\n",
    "plt.plot(loss1)\n",
    "plt.ylabel('validation error')\n",
    "plt.xlabel('iterations')\n",
    "plt.title('train loss of stochastic gradient decent')\n",
    "print 'time per iteration is: ', t_iter1/N1, ', prediction error is: ', Error(test,Q1,P1)"
   ]
  },
  {
   "cell_type": "markdown",
   "metadata": {},
   "source": [
    "$TrainWithMiniBatch :$"
   ]
  },
  {
   "cell_type": "code",
   "execution_count": 154,
   "metadata": {
    "collapsed": false
   },
   "outputs": [
    {
     "name": "stdout",
     "output_type": "stream",
     "text": [
      "time per iteration is:  0.00674127386093 , prediction error is:  1.5165807025\n"
     ]
    },
    {
     "name": "stderr",
     "output_type": "stream",
     "text": [
      "/home/yuanze/anaconda/lib/python2.7/site-packages/IPython/kernel/__main__.py:11: VisibleDeprecationWarning: using a non-integer number instead of an integer will result in an error in the future\n",
      "/home/yuanze/anaconda/lib/python2.7/site-packages/IPython/kernel/__main__.py:12: VisibleDeprecationWarning: using a non-integer number instead of an integer will result in an error in the future\n",
      "/home/yuanze/anaconda/lib/python2.7/site-packages/IPython/kernel/__main__.py:15: VisibleDeprecationWarning: using a non-integer number instead of an integer will result in an error in the future\n",
      "/home/yuanze/anaconda/lib/python2.7/site-packages/IPython/kernel/__main__.py:16: VisibleDeprecationWarning: using a non-integer number instead of an integer will result in an error in the future\n"
     ]
    },
    {
     "data": {
      "image/png": "[encoded data removed]",
      "text/plain": [
       "<matplotlib.figure.Figure at 0x7ff04c9806d0>"
      ]
     },
     "metadata": {},
     "output_type": "display_data"
    }
   ],
   "source": [
    "Q2 = Q\n",
    "P2 = P\n",
    "N2 = 50000\n",
    "loss2 = []\n",
    "t_iter2 = 0\n",
    "for i in range(N2):\n",
    "    Q2,P2,t2 = SGDwithBatch(train,Q2,P2)\n",
    "    loss2.append(Error(validation,Q2,P2))\n",
    "    t_iter2 += t2\n",
    "plt.plot(loss2)\n",
    "plt.ylabel('validation error')\n",
    "plt.xlabel('iterations')\n",
    "plt.title('train loss of stochastic gradient decent with mini batch')\n",
    "print 'time per iteration is: ', t_iter2/N2, ', prediction error is: ', Error(test,Q2,P2)"
   ]
  }
 ],
 "metadata": {
  "anaconda-cloud": {},
  "kernelspec": {
   "display_name": "Python 2",
   "language": "python",
   "name": "python2"
  },
  "language_info": {
   "codemirror_mode": {
    "name": "ipython",
    "version": 2
   },
   "file_extension": ".py",
   "mimetype": "text/x-python",
   "name": "python",
   "nbconvert_exporter": "python",
   "pygments_lexer": "ipython2",
   "version": "2.7.12"
  }
 },
 "nbformat": 4,
 "nbformat_minor": 1
}
